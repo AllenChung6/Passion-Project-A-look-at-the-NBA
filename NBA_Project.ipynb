{
 "cells": [
  {
   "cell_type": "code",
   "execution_count": 2,
   "id": "05423e9e",
   "metadata": {},
   "outputs": [],
   "source": [
    "import pandas as pd\n",
    "import matplotlib as mpl"
   ]
  },
  {
   "cell_type": "code",
   "execution_count": 3,
   "id": "2247e130",
   "metadata": {},
   "outputs": [],
   "source": [
    "# import csv file into a dataframe:\n",
    "contracts = pd.read_csv(\"NBA_salaries.csv\", header = [1], index_col = 0)"
   ]
  },
  {
   "cell_type": "code",
   "execution_count": 5,
   "id": "c79ad1df",
   "metadata": {},
   "outputs": [
    {
     "data": {
      "text/plain": [
       "Index(['Player', 'Tm', '2021-22', '2022-23', '2023-24', '2024-25', '2025-26',\n",
       "       '2026-27', 'Signed Using', 'Guaranteed'],\n",
       "      dtype='object')"
      ]
     },
     "execution_count": 5,
     "metadata": {},
     "output_type": "execute_result"
    }
   ],
   "source": [
    "#Display columns\n",
    "contracts.columns"
   ]
  },
  {
   "cell_type": "code",
   "execution_count": 8,
   "id": "d17fde25",
   "metadata": {},
   "outputs": [
    {
     "data": {
      "text/html": [
       "<div>\n",
       "<style scoped>\n",
       "    .dataframe tbody tr th:only-of-type {\n",
       "        vertical-align: middle;\n",
       "    }\n",
       "\n",
       "    .dataframe tbody tr th {\n",
       "        vertical-align: top;\n",
       "    }\n",
       "\n",
       "    .dataframe thead th {\n",
       "        text-align: right;\n",
       "    }\n",
       "</style>\n",
       "<table border=\"1\" class=\"dataframe\">\n",
       "  <thead>\n",
       "    <tr style=\"text-align: right;\">\n",
       "      <th></th>\n",
       "      <th>Player</th>\n",
       "      <th>Team</th>\n",
       "      <th>2021-22</th>\n",
       "      <th>2022-23</th>\n",
       "      <th>2023-24</th>\n",
       "      <th>2024-25</th>\n",
       "      <th>2025-26</th>\n",
       "      <th>2026-27</th>\n",
       "      <th>Signed Using</th>\n",
       "      <th>Guaranteed</th>\n",
       "    </tr>\n",
       "    <tr>\n",
       "      <th>Rk</th>\n",
       "      <th></th>\n",
       "      <th></th>\n",
       "      <th></th>\n",
       "      <th></th>\n",
       "      <th></th>\n",
       "      <th></th>\n",
       "      <th></th>\n",
       "      <th></th>\n",
       "      <th></th>\n",
       "      <th></th>\n",
       "    </tr>\n",
       "  </thead>\n",
       "  <tbody>\n",
       "    <tr>\n",
       "      <th>1</th>\n",
       "      <td>Stephen Curry</td>\n",
       "      <td>GSW</td>\n",
       "      <td>$45,780,966</td>\n",
       "      <td>$48,070,014</td>\n",
       "      <td>$51,915,615</td>\n",
       "      <td>$55,761,216</td>\n",
       "      <td>$59,606,817</td>\n",
       "      <td>NaN</td>\n",
       "      <td>Bird Rights</td>\n",
       "      <td>$261,134,628</td>\n",
       "    </tr>\n",
       "    <tr>\n",
       "      <th>2</th>\n",
       "      <td>John Wall</td>\n",
       "      <td>HOU</td>\n",
       "      <td>$44,310,840</td>\n",
       "      <td>$47,366,760</td>\n",
       "      <td>NaN</td>\n",
       "      <td>NaN</td>\n",
       "      <td>NaN</td>\n",
       "      <td>NaN</td>\n",
       "      <td>Bird Rights</td>\n",
       "      <td>$44,310,840</td>\n",
       "    </tr>\n",
       "    <tr>\n",
       "      <th>3</th>\n",
       "      <td>Russell Westbrook</td>\n",
       "      <td>LAL</td>\n",
       "      <td>$44,211,146</td>\n",
       "      <td>$47,063,478</td>\n",
       "      <td>NaN</td>\n",
       "      <td>NaN</td>\n",
       "      <td>NaN</td>\n",
       "      <td>NaN</td>\n",
       "      <td>Bird Rights</td>\n",
       "      <td>$44,211,146</td>\n",
       "    </tr>\n",
       "    <tr>\n",
       "      <th>4</th>\n",
       "      <td>James Harden</td>\n",
       "      <td>PHI</td>\n",
       "      <td>$43,848,000</td>\n",
       "      <td>$46,872,000</td>\n",
       "      <td>NaN</td>\n",
       "      <td>NaN</td>\n",
       "      <td>NaN</td>\n",
       "      <td>NaN</td>\n",
       "      <td>Bird Rights</td>\n",
       "      <td>$43,848,000</td>\n",
       "    </tr>\n",
       "    <tr>\n",
       "      <th>5</th>\n",
       "      <td>LeBron James</td>\n",
       "      <td>LAL</td>\n",
       "      <td>$41,180,544</td>\n",
       "      <td>$44,474,988</td>\n",
       "      <td>NaN</td>\n",
       "      <td>NaN</td>\n",
       "      <td>NaN</td>\n",
       "      <td>NaN</td>\n",
       "      <td>Bird</td>\n",
       "      <td>$85,655,532</td>\n",
       "    </tr>\n",
       "  </tbody>\n",
       "</table>\n",
       "</div>"
      ],
      "text/plain": [
       "               Player Team      2021-22      2022-23      2023-24  \\\n",
       "Rk                                                                  \n",
       "1       Stephen Curry  GSW  $45,780,966  $48,070,014  $51,915,615   \n",
       "2           John Wall  HOU  $44,310,840  $47,366,760          NaN   \n",
       "3   Russell Westbrook  LAL  $44,211,146  $47,063,478          NaN   \n",
       "4        James Harden  PHI  $43,848,000  $46,872,000          NaN   \n",
       "5        LeBron James  LAL  $41,180,544  $44,474,988          NaN   \n",
       "\n",
       "        2024-25      2025-26 2026-27 Signed Using    Guaranteed  \n",
       "Rk                                                               \n",
       "1   $55,761,216  $59,606,817     NaN  Bird Rights  $261,134,628  \n",
       "2           NaN          NaN     NaN  Bird Rights   $44,310,840  \n",
       "3           NaN          NaN     NaN  Bird Rights   $44,211,146  \n",
       "4           NaN          NaN     NaN  Bird Rights   $43,848,000  \n",
       "5           NaN          NaN     NaN         Bird   $85,655,532  "
      ]
     },
     "execution_count": 8,
     "metadata": {},
     "output_type": "execute_result"
    }
   ],
   "source": [
    "#Rename 'tm' to 'team' column\n",
    "contracts.rename(columns = {'Tm': 'Team'}).head(5)"
   ]
  },
  {
   "cell_type": "code",
   "execution_count": 27,
   "id": "2266e895",
   "metadata": {},
   "outputs": [
    {
     "data": {
      "text/plain": [
       "Player          object\n",
       "Tm              object\n",
       "2021-22         object\n",
       "2022-23         object\n",
       "2023-24         object\n",
       "2024-25         object\n",
       "2025-26         object\n",
       "2026-27         object\n",
       "Signed Using    object\n",
       "Guaranteed      object\n",
       "dtype: object"
      ]
     },
     "execution_count": 27,
     "metadata": {},
     "output_type": "execute_result"
    }
   ],
   "source": [
    "contracts.dtypes"
   ]
  },
  {
   "cell_type": "code",
   "execution_count": null,
   "id": "b1e2a0ee",
   "metadata": {},
   "outputs": [],
   "source": []
  }
 ],
 "metadata": {
  "kernelspec": {
   "display_name": "Python 3 (ipykernel)",
   "language": "python",
   "name": "python3"
  },
  "language_info": {
   "codemirror_mode": {
    "name": "ipython",
    "version": 3
   },
   "file_extension": ".py",
   "mimetype": "text/x-python",
   "name": "python",
   "nbconvert_exporter": "python",
   "pygments_lexer": "ipython3",
   "version": "3.9.12"
  }
 },
 "nbformat": 4,
 "nbformat_minor": 5
}
